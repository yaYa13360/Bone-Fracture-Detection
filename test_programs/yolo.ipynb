{
 "cells": [
  {
   "cell_type": "code",
   "execution_count": 58,
   "metadata": {},
   "outputs": [
    {
     "name": "stdout",
     "output_type": "stream",
     "text": [
      "Successfully rename\n"
     ]
    }
   ],
   "source": [
    "## 改檔名\n",
    "\n",
    "import os\n",
    "\n",
    "path = \"E://data_bone//0-bone_yolo//bone_folder//folder//三踝骨折30組\"\n",
    "# 1. 改檔名\n",
    "def rename_folder(directory_path):\n",
    "    # 確認目錄是否存在\n",
    "    if not os.path.isdir(directory_path):\n",
    "        print(f\"The directory {directory_path} does not exist.\")\n",
    "        return\n",
    "\n",
    "    # 收集所有資料夾名稱\n",
    "    directories = [name for name in os.listdir(directory_path) if os.path.isdir(os.path.join(directory_path, name))]\n",
    "\n",
    "    # 將資料夾名稱寫入CSV檔\n",
    "    for directory in directories:\n",
    "        old_path = os.path.join(directory_path, directory)\n",
    "        try:\n",
    "            ## 根據任務拆解\n",
    "            #=================================\n",
    "            # new_path = os.path.join(directory_path, directory.split(' - ')[1])\n",
    "            new_path = os.path.join(directory_path, directory.split('(')[0])\n",
    "            # new_path = os.path.join(directory_path, directory.split(' ')[0])\n",
    "            # new_path = os.path.join(directory_path, directory.split('-')[0])\n",
    "            # =================================\n",
    "            os.rename(old_path, new_path)\n",
    "        except Exception as e:\n",
    "            None\n",
    "    print(f\"Successfully rename\")\n",
    "rename_folder(path)"
   ]
  },
  {
   "cell_type": "code",
   "execution_count": 4,
   "metadata": {},
   "outputs": [],
   "source": [
    "## 移檔案給yoolo標記\n",
    "\n",
    "import re\n",
    "import shutil\n",
    "# path = \"E://data_bone//0-bone_yolo//bone_folder//folder//三踝骨折30組\"\n",
    "path2 = \"E://data_bone//0-bone_yolo//bone_folder//folder_clean//tri//\"\n",
    "all_files = []\n",
    "# 1. 改檔名\n",
    "def rename_folder2(directory_path, clean_path):\n",
    "    # 確認目錄是否存在\n",
    "    if not os.path.isdir(directory_path):\n",
    "        print(f\"The directory {directory_path} does not exist.\")\n",
    "        return \n",
    "\n",
    "    # 收集所有資料夾名稱\n",
    "    # directories = [name for name in os.listdir(directory_path) if os.path.isdir(os.path.join(directory_path, name))]\n",
    "    for root, dirs, files in os.walk(directory_path):\n",
    "        count = 0\n",
    "        for file in files:\n",
    "            old_path = os.path.join(root, file)\n",
    "            uuid =old_path.split(\"\\\\\")[-2]\n",
    "\n",
    "            updated_str = re.sub(r'\\(.*?\\)', f'(label)', old_path)\n",
    "            name = updated_str.split(\"\\\\\")[-1]\n",
    "\n",
    "\n",
    "            if count % 2 != 1:\n",
    "                shutil.move(old_path, clean_path+uuid+\"test\"+name)\n",
    "            count += 1\n",
    "rename_folder2(path, path2)\n",
    "\n",
    "\n"
   ]
  },
  {
   "cell_type": "code",
   "execution_count": 14,
   "metadata": {},
   "outputs": [],
   "source": [
    "## 移動.txt\n",
    "##############\n",
    "## _1: 正面\n",
    "## _2: 側面\n",
    "##############\n",
    "import os\n",
    "import shutil\n",
    "\n",
    "path_txt = \"E://data_bone//0-bone_yolo//bone_folder//folder_clean//bi\"\n",
    "\n",
    "path_yolo = 'E://data_bone//0-bone_yolo//bone_folder//folder_clean2//bi_side//'\n",
    "txt_files = []\n",
    "\n",
    "for root, dirs, files in os.walk(path_txt):\n",
    "    for file in files:\n",
    "        if file.endswith('.txt'):\n",
    "            if \"_2(label)\" in file:\n",
    "                txt_files.append(file)\n",
    "                new_name = file.replace('(label)', '')\n",
    "                new_name = new_name.replace('test', '_')\n",
    "                shutil.move(os.path.join(root, file), path_yolo+new_name)\n",
    "\n",
    "# txt_files"
   ]
  },
  {
   "cell_type": "code",
   "execution_count": 30,
   "metadata": {},
   "outputs": [],
   "source": [
    "## 把照片移進yolo\n",
    "path_front_txt = \"E://data_bone//0-bone_yolo//bone_folder//folder_clean2//bi_front\"\n",
    "path_side_txt = \"E://data_bone//0-bone_yolo//bone_folder//folder_clean2//bi_side\"\n",
    "all_txt_front = []\n",
    "for root, dirs, files in os.walk(path_front_txt):\n",
    "    for file in files:\n",
    "        all_txt_front.append(file)\n",
    "all_txt_side = []\n",
    "for root, dirs, files in os.walk(path_side_txt):\n",
    "    for file in files:\n",
    "        all_txt_side.append(file)\n",
    "\n",
    "path = \"E://data_bone//0-bone_yolo//bone_folder//folder//雙踝骨折30組\"\n",
    "path_front_txt = \"E://data_bone//0-bone_yolo//bone_folder//folder_clean2//bi_front//\"\n",
    "path_side_txt = \"E://data_bone//0-bone_yolo//bone_folder//folder_clean2//bi_side//\"\n",
    "for root, dirs, files in os.walk(path):\n",
    "    for file in files:\n",
    "        uuid = os.path.join(root, file).split('\\\\')[-2]\n",
    "        name = os.path.join(root, file).split('\\\\')[-1]\n",
    "        new_name = uuid + \"_\" +name\n",
    "        if new_name.replace('.jpg', '.txt') in all_txt_side:\n",
    "            shutil.move(os.path.join(root, file), path_side_txt+new_name)\n",
    "        if new_name.replace('.jpg', '.txt') in all_txt_front:\n",
    "            shutil.move(os.path.join(root, file), path_front_txt+new_name)\n"
   ]
  }
 ],
 "metadata": {
  "kernelspec": {
   "display_name": "base",
   "language": "python",
   "name": "python3"
  },
  "language_info": {
   "codemirror_mode": {
    "name": "ipython",
    "version": 3
   },
   "file_extension": ".py",
   "mimetype": "text/x-python",
   "name": "python",
   "nbconvert_exporter": "python",
   "pygments_lexer": "ipython3",
   "version": "3.11.4"
  }
 },
 "nbformat": 4,
 "nbformat_minor": 2
}
