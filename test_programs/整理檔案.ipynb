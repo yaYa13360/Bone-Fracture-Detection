{
 "cells": [
  {
   "cell_type": "code",
   "execution_count": 27,
   "metadata": {},
   "outputs": [],
   "source": [
    "import os\n",
    "import csv"
   ]
  },
  {
   "cell_type": "code",
   "execution_count": 27,
   "metadata": {},
   "outputs": [
    {
     "name": "stdout",
     "output_type": "stream",
     "text": [
      "Successfully rename\n"
     ]
    }
   ],
   "source": [
    "# 改檔名\n",
    "def rename_folder(directory_path):\n",
    "    # 確認目錄是否存在\n",
    "    if not os.path.isdir(directory_path):\n",
    "        print(f\"The directory {directory_path} does not exist.\")\n",
    "        return\n",
    "\n",
    "    # 收集所有資料夾名稱\n",
    "    directories = [name for name in os.listdir(directory_path) if os.path.isdir(os.path.join(directory_path, name))]\n",
    "\n",
    "    # 將資料夾名稱寫入CSV檔\n",
    "    for directory in directories:\n",
    "        old_path = os.path.join(directory_path, directory)\n",
    "        try:\n",
    "            # new_path = os.path.join(directory_path, directory.split(' - ')[1])\n",
    "            # new_path = os.path.join(directory_path, directory.split(' ')[0])\n",
    "            new_path = os.path.join(directory_path, directory.split('-')[0])\n",
    "\n",
    "            os.rename(old_path, new_path)\n",
    "        except Exception as e:\n",
    "            None\n",
    "    print(f\"Successfully rename\")\n",
    "\n",
    "# directory_path = \"D://reaserch//data//bone_中榮//雲端//20230907 雙踝骨折66個\"\n",
    "# directory_path = \"D://reaserch//data//bone_中榮//雲端//20230907 三踝骨折65個\"\n",
    "directory_path = \"D://reaserch//data//bone_中榮//雲端//20230907 正常組65個\"\n",
    "\n",
    "rename_folder(directory_path)"
   ]
  },
  {
   "cell_type": "code",
   "execution_count": 28,
   "metadata": {},
   "outputs": [
    {
     "name": "stdout",
     "output_type": "stream",
     "text": [
      "Successfully wrote directory names to 正常.csv\n"
     ]
    }
   ],
   "source": [
    "def list_directories_to_csv(directory_path, output_csv_path):\n",
    "    # 確認目錄是否存在\n",
    "    if not os.path.isdir(directory_path):\n",
    "        print(f\"The directory {directory_path} does not exist.\")\n",
    "        return\n",
    "\n",
    "    # 收集所有資料夾名稱\n",
    "    directories = [name for name in os.listdir(directory_path) if os.path.isdir(os.path.join(directory_path, name))]\n",
    "\n",
    "    # 將資料夾名稱寫入CSV檔\n",
    "    with open(output_csv_path, mode='w', newline='', encoding='utf-8') as file:\n",
    "        writer = csv.writer(file)\n",
    "        writer.writerow(['uuid'])  # 寫入CSV標題\n",
    "        for directory in directories:\n",
    "            writer.writerow([directory])\n",
    "    \n",
    "    print(f\"Successfully wrote directory names to {output_csv_path}\")\n",
    "\n",
    "\n",
    "# directory_path = 'D://reaserch//data//bone_中榮//雲端//20230907 三踝骨折65個' \n",
    "# output_csv_path = '三踝.csv' \n",
    "\n",
    "# directory_path = 'D://reaserch//data//bone_中榮//雲端//20230907 雙踝骨折66個' \n",
    "# output_csv_path = '雙踝.csv'\n",
    "\n",
    "directory_path = 'D://reaserch//data//bone_中榮//雲端//20230907 正常組65個' \n",
    "output_csv_path = '正常.csv'  \n",
    "\n",
    "list_directories_to_csv(directory_path, output_csv_path)\n"
   ]
  },
  {
   "cell_type": "code",
   "execution_count": 8,
   "metadata": {},
   "outputs": [
    {
     "name": "stdout",
     "output_type": "stream",
     "text": [
      "File 'E://data_bone//雲端//雲端_clean2//side//20230907 正常組65個\\000047083H\\117.jpg' has been deleted.\n",
      "File 'E://data_bone//雲端//雲端_clean2//side//20230907 正常組65個\\000047083H\\119.jpg' has been deleted.\n",
      "File 'E://data_bone//雲端//雲端_clean2//side//20230907 正常組65個\\000091353B\\101.jpg' has been deleted.\n",
      "File 'E://data_bone//雲端//雲端_clean2//side//20230907 正常組65個\\000091353B\\103.jpg' has been deleted.\n",
      "File 'E://data_bone//雲端//雲端_clean2//side//20230907 正常組65個\\000139092H\\49.jpg' has been deleted.\n",
      "File 'E://data_bone//雲端//雲端_clean2//side//20230907 正常組65個\\000139092H\\51.jpg' has been deleted.\n",
      "File 'E://data_bone//雲端//雲端_clean2//side//20230907 正常組65個\\000424398F\\25.jpg' has been deleted.\n",
      "File 'E://data_bone//雲端//雲端_clean2//side//20230907 正常組65個\\000424398F\\27.jpg' has been deleted.\n",
      "File 'E://data_bone//雲端//雲端_clean2//side//20230907 正常組65個\\000431483E\\41.jpg' has been deleted.\n",
      "File 'E://data_bone//雲端//雲端_clean2//side//20230907 正常組65個\\000431483E\\43.jpg' has been deleted.\n",
      "File 'E://data_bone//雲端//雲端_clean2//side//20230907 正常組65個\\000435974E\\65.jpg' has been deleted.\n",
      "File 'E://data_bone//雲端//雲端_clean2//side//20230907 正常組65個\\000435974E\\67.jpg' has been deleted.\n",
      "File 'E://data_bone//雲端//雲端_clean2//side//20230907 正常組65個\\000598291C\\193.jpg' has been deleted.\n",
      "File 'E://data_bone//雲端//雲端_clean2//side//20230907 正常組65個\\000598291C\\195.jpg' has been deleted.\n",
      "File 'E://data_bone//雲端//雲端_clean2//side//20230907 正常組65個\\000602012I\\169.jpg' has been deleted.\n",
      "File 'E://data_bone//雲端//雲端_clean2//side//20230907 正常組65個\\000602012I\\171.jpg' has been deleted.\n",
      "File 'E://data_bone//雲端//雲端_clean2//side//20230907 正常組65個\\000936387F\\199.jpg' has been deleted.\n",
      "File 'E://data_bone//雲端//雲端_clean2//side//20230907 正常組65個\\000936387F\\201.jpg' has been deleted.\n",
      "File 'E://data_bone//雲端//雲端_clean2//side//20230907 正常組65個\\000946625F\\185.jpg' has been deleted.\n",
      "File 'E://data_bone//雲端//雲端_clean2//side//20230907 正常組65個\\000946625F\\187.jpg' has been deleted.\n",
      "File 'E://data_bone//雲端//雲端_clean2//side//20230907 正常組65個\\000951470J\\17.jpg' has been deleted.\n",
      "File 'E://data_bone//雲端//雲端_clean2//side//20230907 正常組65個\\001054203H\\93.jpg' has been deleted.\n",
      "File 'E://data_bone//雲端//雲端_clean2//side//20230907 正常組65個\\001054203H\\95.jpg' has been deleted.\n",
      "File 'E://data_bone//雲端//雲端_clean2//side//20230907 正常組65個\\001120714A\\85.jpg' has been deleted.\n",
      "File 'E://data_bone//雲端//雲端_clean2//side//20230907 正常組65個\\001120714A\\87.jpg' has been deleted.\n",
      "File 'E://data_bone//雲端//雲端_clean2//side//20230907 正常組65個\\001132438C\\7.jpg' has been deleted.\n",
      "File 'E://data_bone//雲端//雲端_clean2//side//20230907 正常組65個\\001132438C\\9.jpg' has been deleted.\n",
      "File 'E://data_bone//雲端//雲端_clean2//side//20230907 正常組65個\\001136744F\\189.jpg' has been deleted.\n",
      "File 'E://data_bone//雲端//雲端_clean2//side//20230907 正常組65個\\001136744F\\191.jpg' has been deleted.\n",
      "File 'E://data_bone//雲端//雲端_clean2//side//20230907 正常組65個\\001189670B\\73.jpg' has been deleted.\n",
      "File 'E://data_bone//雲端//雲端_clean2//side//20230907 正常組65個\\001189670B\\75.jpg' has been deleted.\n",
      "File 'E://data_bone//雲端//雲端_clean2//side//20230907 正常組65個\\001264772C\\6_3_1_1.jpg' has been deleted.\n",
      "File 'E://data_bone//雲端//雲端_clean2//side//20230907 正常組65個\\001264772C\\6_3_1_3.jpg' has been deleted.\n",
      "File 'E://data_bone//雲端//雲端_clean2//side//20230907 正常組65個\\001292237B\\109.jpg' has been deleted.\n",
      "File 'E://data_bone//雲端//雲端_clean2//side//20230907 正常組65個\\001292237B\\111.jpg' has been deleted.\n",
      "File 'E://data_bone//雲端//雲端_clean2//side//20230907 正常組65個\\001343885C\\105.jpg' has been deleted.\n",
      "File 'E://data_bone//雲端//雲端_clean2//side//20230907 正常組65個\\001343885C\\107.jpg' has been deleted.\n",
      "File 'E://data_bone//雲端//雲端_clean2//side//20230907 正常組65個\\001455017F\\145.jpg' has been deleted.\n",
      "File 'E://data_bone//雲端//雲端_clean2//side//20230907 正常組65個\\001455017F\\147.jpg' has been deleted.\n",
      "File 'E://data_bone//雲端//雲端_clean2//side//20230907 正常組65個\\001466426H\\181.jpg' has been deleted.\n",
      "File 'E://data_bone//雲端//雲端_clean2//side//20230907 正常組65個\\001466426H\\183.jpg' has been deleted.\n",
      "File 'E://data_bone//雲端//雲端_clean2//side//20230907 正常組65個\\001474363G\\89.jpg' has been deleted.\n",
      "File 'E://data_bone//雲端//雲端_clean2//side//20230907 正常組65個\\001474363G\\91.jpg' has been deleted.\n",
      "File 'E://data_bone//雲端//雲端_clean2//side//20230907 正常組65個\\001632063B\\81.jpg' has been deleted.\n",
      "File 'E://data_bone//雲端//雲端_clean2//side//20230907 正常組65個\\001632063B\\83.jpg' has been deleted.\n",
      "File 'E://data_bone//雲端//雲端_clean2//side//20230907 正常組65個\\001660933J\\149.jpg' has been deleted.\n",
      "File 'E://data_bone//雲端//雲端_clean2//side//20230907 正常組65個\\001660933J\\151.jpg' has been deleted.\n",
      "File 'E://data_bone//雲端//雲端_clean2//side//20230907 正常組65個\\001786984A\\29.jpg' has been deleted.\n",
      "File 'E://data_bone//雲端//雲端_clean2//side//20230907 正常組65個\\001786984A\\31.jpg' has been deleted.\n",
      "File 'E://data_bone//雲端//雲端_clean2//side//20230907 正常組65個\\001814112D\\53.jpg' has been deleted.\n",
      "File 'E://data_bone//雲端//雲端_clean2//side//20230907 正常組65個\\001814112D\\55.jpg' has been deleted.\n",
      "File 'E://data_bone//雲端//雲端_clean2//side//20230907 正常組65個\\001944036J\\4_2_1_1.jpg' has been deleted.\n",
      "File 'E://data_bone//雲端//雲端_clean2//side//20230907 正常組65個\\001944036J\\4_2_1_3.jpg' has been deleted.\n",
      "File 'E://data_bone//雲端//雲端_clean2//side//20230907 正常組65個\\002083898G\\5_4_1_1.jpg' has been deleted.\n",
      "File 'E://data_bone//雲端//雲端_clean2//side//20230907 正常組65個\\002083898G\\5_4_1_3.jpg' has been deleted.\n",
      "File 'E://data_bone//雲端//雲端_clean2//side//20230907 正常組65個\\002176057G\\1.jpg' has been deleted.\n",
      "File 'E://data_bone//雲端//雲端_clean2//side//20230907 正常組65個\\002326579E\\165.jpg' has been deleted.\n",
      "File 'E://data_bone//雲端//雲端_clean2//side//20230907 正常組65個\\002326579E\\167.jpg' has been deleted.\n",
      "File 'E://data_bone//雲端//雲端_clean2//side//20230907 正常組65個\\002438840H\\173.jpg' has been deleted.\n",
      "File 'E://data_bone//雲端//雲端_clean2//side//20230907 正常組65個\\002438840H\\175.jpg' has been deleted.\n",
      "File 'E://data_bone//雲端//雲端_clean2//side//20230907 正常組65個\\002578990G\\37.jpg' has been deleted.\n",
      "File 'E://data_bone//雲端//雲端_clean2//side//20230907 正常組65個\\002578990G\\39.jpg' has been deleted.\n",
      "File 'E://data_bone//雲端//雲端_clean2//side//20230907 正常組65個\\002610596E\\197.jpg' has been deleted.\n",
      "File 'E://data_bone//雲端//雲端_clean2//side//20230907 正常組65個\\002698544E\\3.jpg' has been deleted.\n",
      "File 'E://data_bone//雲端//雲端_clean2//side//20230907 正常組65個\\002698544E\\5.jpg' has been deleted.\n",
      "File 'E://data_bone//雲端//雲端_clean2//side//20230907 正常組65個\\002735380G\\61.jpg' has been deleted.\n",
      "File 'E://data_bone//雲端//雲端_clean2//side//20230907 正常組65個\\002735380G\\63.jpg' has been deleted.\n",
      "File 'E://data_bone//雲端//雲端_clean2//side//20230907 正常組65個\\002767237D\\1_2_1_1.jpg' has been deleted.\n",
      "File 'E://data_bone//雲端//雲端_clean2//side//20230907 正常組65個\\002767237D\\1_2_1_3.jpg' has been deleted.\n",
      "File 'E://data_bone//雲端//雲端_clean2//side//20230907 正常組65個\\002796013A\\23.jpg' has been deleted.\n",
      "File 'E://data_bone//雲端//雲端_clean2//side//20230907 正常組65個\\002812758E\\161.jpg' has been deleted.\n",
      "File 'E://data_bone//雲端//雲端_clean2//side//20230907 正常組65個\\002812758E\\163.jpg' has been deleted.\n",
      "File 'E://data_bone//雲端//雲端_clean2//side//20230907 正常組65個\\002818759J\\97.jpg' has been deleted.\n",
      "File 'E://data_bone//雲端//雲端_clean2//side//20230907 正常組65個\\002818759J\\99.jpg' has been deleted.\n",
      "File 'E://data_bone//雲端//雲端_clean2//side//20230907 正常組65個\\002841029J\\137.jpg' has been deleted.\n",
      "File 'E://data_bone//雲端//雲端_clean2//side//20230907 正常組65個\\002841029J\\139.jpg' has been deleted.\n",
      "File 'E://data_bone//雲端//雲端_clean2//side//20230907 正常組65個\\002873689C\\3_1_1_1.jpg' has been deleted.\n",
      "File 'E://data_bone//雲端//雲端_clean2//side//20230907 正常組65個\\002873689C\\3_1_1_3.jpg' has been deleted.\n",
      "File 'E://data_bone//雲端//雲端_clean2//side//20230907 正常組65個\\002897452J\\3_2_1_1.jpg' has been deleted.\n",
      "File 'E://data_bone//雲端//雲端_clean2//side//20230907 正常組65個\\002897452J\\3_2_1_3.jpg' has been deleted.\n",
      "File 'E://data_bone//雲端//雲端_clean2//side//20230907 正常組65個\\002954163H\\45.jpg' has been deleted.\n",
      "File 'E://data_bone//雲端//雲端_clean2//side//20230907 正常組65個\\002954163H\\47.jpg' has been deleted.\n",
      "File 'E://data_bone//雲端//雲端_clean2//side//20230907 正常組65個\\002961745G\\133.jpg' has been deleted.\n",
      "File 'E://data_bone//雲端//雲端_clean2//side//20230907 正常組65個\\002961745G\\135.jpg' has been deleted.\n",
      "File 'E://data_bone//雲端//雲端_clean2//side//20230907 正常組65個\\002983380F\\1_1_1_1.jpg' has been deleted.\n",
      "File 'E://data_bone//雲端//雲端_clean2//side//20230907 正常組65個\\002994117B\\69.jpg' has been deleted.\n",
      "File 'E://data_bone//雲端//雲端_clean2//side//20230907 正常組65個\\002994117B\\71.jpg' has been deleted.\n",
      "File 'E://data_bone//雲端//雲端_clean2//side//20230907 正常組65個\\003002717J\\19.jpg' has been deleted.\n",
      "File 'E://data_bone//雲端//雲端_clean2//side//20230907 正常組65個\\003002717J\\21.jpg' has been deleted.\n",
      "File 'E://data_bone//雲端//雲端_clean2//side//20230907 正常組65個\\003003215G\\2_4_1_1.jpg' has been deleted.\n",
      "File 'E://data_bone//雲端//雲端_clean2//side//20230907 正常組65個\\003054668A\\13.jpg' has been deleted.\n",
      "File 'E://data_bone//雲端//雲端_clean2//side//20230907 正常組65個\\003067689C\\4_4_1_1.jpg' has been deleted.\n",
      "File 'E://data_bone//雲端//雲端_clean2//side//20230907 正常組65個\\003067689C\\4_4_1_3.jpg' has been deleted.\n",
      "File 'E://data_bone//雲端//雲端_clean2//side//20230907 正常組65個\\003080640H\\3_4_1_1.jpg' has been deleted.\n",
      "File 'E://data_bone//雲端//雲端_clean2//side//20230907 正常組65個\\003080640H\\3_4_1_3.jpg' has been deleted.\n",
      "File 'E://data_bone//雲端//雲端_clean2//side//20230907 正常組65個\\003081434H\\2_2_1_1.jpg' has been deleted.\n",
      "File 'E://data_bone//雲端//雲端_clean2//side//20230907 正常組65個\\003081434H\\2_2_1_3.jpg' has been deleted.\n",
      "File 'E://data_bone//雲端//雲端_clean2//side//20230907 正常組65個\\003082051A\\1_4_1_1.jpg' has been deleted.\n",
      "File 'E://data_bone//雲端//雲端_clean2//side//20230907 正常組65個\\003082051A\\1_4_1_3.jpg' has been deleted.\n",
      "File 'E://data_bone//雲端//雲端_clean2//side//20230907 正常組65個\\003082221A\\6_4_1_1.jpg' has been deleted.\n",
      "File 'E://data_bone//雲端//雲端_clean2//side//20230907 正常組65個\\003082221A\\6_4_1_3.jpg' has been deleted.\n",
      "File 'E://data_bone//雲端//雲端_clean2//side//20230907 正常組65個\\003083530E\\33.jpg' has been deleted.\n",
      "File 'E://data_bone//雲端//雲端_clean2//side//20230907 正常組65個\\003083530E\\35.jpg' has been deleted.\n",
      "File 'E://data_bone//雲端//雲端_clean2//side//20230907 正常組65個\\003084156G\\57.jpg' has been deleted.\n",
      "File 'E://data_bone//雲端//雲端_clean2//side//20230907 正常組65個\\003084156G\\59.jpg' has been deleted.\n",
      "File 'E://data_bone//雲端//雲端_clean2//side//20230907 正常組65個\\003086834J\\121.jpg' has been deleted.\n",
      "File 'E://data_bone//雲端//雲端_clean2//side//20230907 正常組65個\\003086834J\\123.jpg' has been deleted.\n",
      "File 'E://data_bone//雲端//雲端_clean2//side//20230907 正常組65個\\003087498H\\125.jpg' has been deleted.\n",
      "File 'E://data_bone//雲端//雲端_clean2//side//20230907 正常組65個\\003087498H\\127.jpg' has been deleted.\n",
      "File 'E://data_bone//雲端//雲端_clean2//side//20230907 正常組65個\\003087515B\\129.jpg' has been deleted.\n",
      "File 'E://data_bone//雲端//雲端_clean2//side//20230907 正常組65個\\003087515B\\131.jpg' has been deleted.\n",
      "File 'E://data_bone//雲端//雲端_clean2//side//20230907 正常組65個\\003088033C\\141.jpg' has been deleted.\n",
      "File 'E://data_bone//雲端//雲端_clean2//side//20230907 正常組65個\\003088033C\\143.jpg' has been deleted.\n",
      "File 'E://data_bone//雲端//雲端_clean2//side//20230907 正常組65個\\003090640C\\157.jpg' has been deleted.\n",
      "File 'E://data_bone//雲端//雲端_clean2//side//20230907 正常組65個\\003090640C\\159.jpg' has been deleted.\n",
      "File 'E://data_bone//雲端//雲端_clean2//side//20230907 正常組65個\\003090647J\\153.jpg' has been deleted.\n",
      "File 'E://data_bone//雲端//雲端_clean2//side//20230907 正常組65個\\003090647J\\155.jpg' has been deleted.\n",
      "File 'E://data_bone//雲端//雲端_clean2//side//20230907 正常組65個\\003092112B\\177.jpg' has been deleted.\n",
      "File 'E://data_bone//雲端//雲端_clean2//side//20230907 正常組65個\\003092112B\\179.jpg' has been deleted.\n"
     ]
    }
   ],
   "source": [
    "# walk side所有資料\n",
    "def list_all_files(directory):\n",
    "    # 確認目錄是否存在\n",
    "    if not os.path.isdir(directory):\n",
    "        print(f\"The directory {directory} does not exist.\")\n",
    "        return\n",
    "\n",
    "    # 列出所有文件\n",
    "    all_files = []\n",
    "    for root, dirs, files in os.walk(directory):\n",
    "        for file in files:\n",
    "            all_files.append(os.path.join(root, file))\n",
    "\n",
    "    return all_files\n",
    "\n",
    "# 刪掉有在front的資料\n",
    "def delete_file(file_path):\n",
    "    try:\n",
    "        # 檢查文件是否存在\n",
    "        if os.path.isfile(file_path):\n",
    "            os.remove(file_path)\n",
    "            print(f\"File '{file_path}' has been deleted.\")\n",
    "        else:\n",
    "            print(f\"File '{file_path}' does not exist.\")\n",
    "    except Exception as e:\n",
    "        print(f\"Error deleting file '{file_path}': {e}\")\n",
    "\n",
    "\n",
    "# directory_path = \"E://data_bone//雲端//雲端_clean2//side//20230907 三踝骨折65個\"  \n",
    "# directory_path2 = \"E://data_bone//雲端//雲端_clean2//front//20230907 三踝骨折65個\"  \n",
    "\n",
    "# directory_path = \"E://data_bone//雲端//雲端_clean2//side//20230907 雙踝骨折66個\"  \n",
    "# directory_path2 = \"E://data_bone//雲端//雲端_clean2//front//20230907 雙踝骨折66個\"\n",
    "\n",
    "directory_path = \"E://data_bone//雲端//雲端_clean2//side//20230907 正常組65個\"  \n",
    "directory_path2 = \"E://data_bone//雲端//雲端_clean2//front//20230907 正常組65個\"\n",
    "\n",
    "files = list_all_files(directory_path)\n",
    "files2 = list_all_files(directory_path2)\n",
    "\n",
    "for f in files2:\n",
    "    tmp = f.replace(\"front\", \"side\")\n",
    "    if tmp in files:\n",
    "        delete_file(tmp)\n"
   ]
  },
  {
   "cell_type": "code",
   "execution_count": 13,
   "metadata": {},
   "outputs": [
    {
     "name": "stdout",
     "output_type": "stream",
     "text": [
      "E://data_bone//雲端//雲端_clean2//side//20230907 正常組65個\\003092112B\\180.jpg\n"
     ]
    },
    {
     "data": {
      "image/png": "[encoded data removed]",
      "text/plain": [
       "<Figure size 640x480 with 1 Axes>"
      ]
     },
     "metadata": {},
     "output_type": "display_data"
    }
   ],
   "source": [
    "import matplotlib.pyplot as plt\n",
    "from PIL import Image\n",
    "from IPython.display import clear_output\n",
    "import os\n",
    "\n",
    "# rename file by R, L\n",
    "\n",
    "# path = [\"E://data_bone//雲端//雲端_clean2//side//20230907 三踝骨折65個\", \n",
    "#         \"E://data_bone//雲端//雲端_clean2//front//20230907 正常組65個\"]\n",
    "\n",
    "# path = [\n",
    "#         \"E://data_bone//雲端//雲端_clean2//front//20230907 三踝骨折65個\",  \n",
    "#         \"E://data_bone//雲端//雲端_clean2//side//20230907 雙踝骨折66個\"\n",
    "#         ]\n",
    "\n",
    "path = [\n",
    "        \"E://data_bone//雲端//雲端_clean2//front//20230907 雙踝骨折66個\",\n",
    "        \"E://data_bone//雲端//雲端_clean2//side//20230907 正常組65個\",\n",
    "        ]\n",
    "\n",
    "ex = []\n",
    "for p in path:\n",
    "    \n",
    "    for root, dirs, files in os.walk(p):\n",
    "        for file in files:\n",
    "            clear_output(wait=True)\n",
    "            # 顯示照片\n",
    "            img = Image.open(os.path.join(root, file))\n",
    "            plt.imshow(img)\n",
    "            plt.axis('off')\n",
    "            print(os.path.join(root, file))\n",
    "            plt.show()\n",
    "\n",
    "            # rename: L: l, R: 2\n",
    "            new_name = input(\"input:\")\n",
    "            try:\n",
    "                os.rename(os.path.join(root, file), os.path.join(root, new_name+'.jpg'))\n",
    "            except Exception as e:\n",
    "                ex.append(os.path.join(root, file))\n",
    "    \n",
    "    "
   ]
  },
  {
   "cell_type": "code",
   "execution_count": 24,
   "metadata": {},
   "outputs": [
    {
     "data": {
      "text/plain": [
       "'20230907 正常組65個\\\\003092112B'"
      ]
     },
     "execution_count": 24,
     "metadata": {},
     "output_type": "execute_result"
    }
   ],
   "source": [
    "root.split(\"//\")[-1]"
   ]
  },
  {
   "cell_type": "code",
   "execution_count": 60,
   "metadata": {},
   "outputs": [
    {
     "name": "stdout",
     "output_type": "stream",
     "text": [
      "Success\n"
     ]
    }
   ],
   "source": [
    "path = [\"E://data_bone//雲端//雲端_clean2//front//20230907 三踝骨折65個\", \n",
    "        \"E://data_bone//雲端//雲端_clean2//side//20230907 三踝骨折65個\",\n",
    "        \"E://data_bone//雲端//雲端_clean2//front//20230907 雙踝骨折66個\",\n",
    "        \"E://data_bone//雲端//雲端_clean2//side//20230907 雙踝骨折66個\",\n",
    "        \"E://data_bone//雲端//雲端_clean2//front//20230907 正常組65個\",\n",
    "        \"E://data_bone//雲端//雲端_clean2//side//20230907 正常組65個\",\n",
    "        ]\n",
    "\n",
    "output_csv_path = '雲端_all.csv'\n",
    "\n",
    "with open(output_csv_path, mode='w', newline='', encoding='utf-8') as file:\n",
    "    writer = csv.writer(file)\n",
    "    writer.writerow(['uuid', 'nor_bi_tri' ,'front_side', 'R_L'])\n",
    "    for p in path:\n",
    "        for root, dirs, files in os.walk(p):\n",
    "            for file in files:\n",
    "                type_tmp = \"\"\n",
    "                if \"正常組\" in root.split(\"//\")[-1]:\n",
    "                    type_tmp = \"nor\"\n",
    "                elif \"三踝\" in root.split(\"//\")[-1]:\n",
    "                    type_tmp = \"tri\"\n",
    "                elif \"雙踝\" in root.split(\"//\")[-1]:\n",
    "                    type_tmp = \"bi\"\n",
    "                else:\n",
    "                    print(os.path.join(root, file))\n",
    "\n",
    "                writer.writerow([root.split(\"\\\\\")[-1], type_tmp, root.split(\"//\")[4], file.replace(\".jpg\", \"\")])\n",
    "\n",
    "print(f\"Success\")\n",
    "       "
   ]
  },
  {
   "cell_type": "code",
   "execution_count": 61,
   "metadata": {},
   "outputs": [
    {
     "name": "stdout",
     "output_type": "stream",
     "text": [
      "Success\n"
     ]
    },
    {
     "data": {
      "text/plain": [
       "uuid          0\n",
       "nor_bi_tri    0\n",
       "front_side    0\n",
       "R_L           0\n",
       "dtype: int64"
      ]
     },
     "execution_count": 61,
     "metadata": {},
     "output_type": "execute_result"
    }
   ],
   "source": [
    "# 整理all.csv\n",
    "import pandas as pd\n",
    "df = pd.read_csv(\"雲端_all.csv\", encoding='utf-8')\n",
    "df_new = df.sort_values(by=['nor_bi_tri', 'uuid', 'front_side','R_L'])\n",
    "df_new.to_csv(\"雲端_all_clean.csv\", index=False)\n",
    "print(f\"Success\")\n",
    "\n",
    "df_new.isnull().sum()  \n"
   ]
  },
  {
   "cell_type": "code",
   "execution_count": 83,
   "metadata": {},
   "outputs": [
    {
     "name": "stdout",
     "output_type": "stream",
     "text": [
      "63\n",
      "58\n",
      "59\n",
      "\n",
      "237\n",
      "123\n",
      "124\n",
      "\n",
      "119\n",
      "61\n",
      "60\n",
      "\n",
      "118\n",
      "62\n",
      "64\n"
     ]
    }
   ],
   "source": [
    "tmp_arr = ['nor', 'bi', 'tri']\n",
    "# 總病例數確認\n",
    "for tmp in tmp_arr:\n",
    "    print(len(df_new['uuid'][df_new['nor_bi_tri'] == tmp].unique()))\n",
    "print()\n",
    "\n",
    "# 張數\n",
    "for tmp in tmp_arr:\n",
    "    print(len(df_new['uuid'][df_new['nor_bi_tri'] == tmp]))\n",
    "print()\n",
    "\n",
    "# front\n",
    "for tmp in tmp_arr:\n",
    "    print(len(df['uuid'][(df['nor_bi_tri'] == tmp) & (df['front_side'] == 'front')]))\n",
    "print()\n",
    "\n",
    "# side\n",
    "for tmp in tmp_arr:\n",
    "    print(len(df['uuid'][(df['nor_bi_tri'] == tmp) & (df['front_side'] == 'side')]))"
   ]
  },
  {
   "cell_type": "code",
   "execution_count": null,
   "metadata": {},
   "outputs": [],
   "source": []
  }
 ],
 "metadata": {
  "kernelspec": {
   "display_name": "bone_maru",
   "language": "python",
   "name": "python3"
  },
  "language_info": {
   "codemirror_mode": {
    "name": "ipython",
    "version": 3
   },
   "file_extension": ".py",
   "mimetype": "text/x-python",
   "name": "python",
   "nbconvert_exporter": "python",
   "pygments_lexer": "ipython3",
   "version": "3.8.19"
  }
 },
 "nbformat": 4,
 "nbformat_minor": 2
}
