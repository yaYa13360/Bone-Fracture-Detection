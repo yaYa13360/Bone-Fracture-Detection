{
 "cells": [
  {
   "cell_type": "code",
   "execution_count": 21,
   "metadata": {},
   "outputs": [],
   "source": [
    "# 勘誤後使用excel重新整理檔案\n",
    "import pandas as pd\n",
    "# 讀取 CSV 檔案\n",
    "file_path = \"20250210_all.csv\"\n",
    "df = pd.read_csv(file_path, usecols=[\"uuid\", \"label\"])\n",
    "\n",
    "# 分成兩個 DataFrame\n",
    "df_tri = df[df[\"label\"] == \"tri\"]\n",
    "df_bi = df[df[\"label\"] == \"bi\"]\n"
   ]
  },
  {
   "cell_type": "code",
   "execution_count": 61,
   "metadata": {},
   "outputs": [
    {
     "name": "stdout",
     "output_type": "stream",
     "text": [
      "E:\\data_bone\\9-a+b_swift_cut_正確_V2_未整理\\old\\front\\三踝\\001023471G_R.jpg_tri\n",
      "E:\\data_bone\\9-a+b_swift_cut_正確_V2_未整理\\old\\front\\三踝\\001253511E_L.jpg_tri\n",
      "E:\\data_bone\\9-a+b_swift_cut_正確_V2_未整理\\old\\front\\三踝\\001348474H_L.jpg_tri\n",
      "E:\\data_bone\\9-a+b_swift_cut_正確_V2_未整理\\old\\front\\三踝\\001348474H_L_2.jpg_tri\n",
      "E:\\data_bone\\9-a+b_swift_cut_正確_V2_未整理\\old\\front\\三踝\\001600347H_L.jpg_tri\n",
      "E:\\data_bone\\9-a+b_swift_cut_正確_V2_未整理\\old\\front\\三踝\\001706292J_R.jpg_tri\n",
      "E:\\data_bone\\9-a+b_swift_cut_正確_V2_未整理\\old\\front\\三踝\\001758318F_L.jpg_tri\n",
      "E:\\data_bone\\9-a+b_swift_cut_正確_V2_未整理\\old\\front\\三踝\\001758318F_R.jpg_tri\n",
      "E:\\data_bone\\9-a+b_swift_cut_正確_V2_未整理\\old\\front\\三踝\\002163835H_L.jpg_tri\n",
      "E:\\data_bone\\9-a+b_swift_cut_正確_V2_未整理\\old\\front\\三踝\\002555500E_L.jpg_tri\n",
      "E:\\data_bone\\9-a+b_swift_cut_正確_V2_未整理\\old\\front\\三踝\\002737939B_R.jpg_tri\n",
      "E:\\data_bone\\9-a+b_swift_cut_正確_V2_未整理\\old\\front\\三踝\\002807609H_L.jpg_tri\n",
      "E:\\data_bone\\9-a+b_swift_cut_正確_V2_未整理\\old\\front\\三踝\\002904952D_L.jpg_tri\n",
      "E:\\data_bone\\9-a+b_swift_cut_正確_V2_未整理\\old\\front\\雙踝\\000007746D_R.jpg_bi\n",
      "E:\\data_bone\\9-a+b_swift_cut_正確_V2_未整理\\old\\front\\雙踝\\000256931F_L.jpg_bi\n",
      "E:\\data_bone\\9-a+b_swift_cut_正確_V2_未整理\\old\\front\\雙踝\\000778448H_L.jpg_bi\n",
      "E:\\data_bone\\9-a+b_swift_cut_正確_V2_未整理\\old\\front\\雙踝\\000984097F_L.jpg_bi\n",
      "E:\\data_bone\\9-a+b_swift_cut_正確_V2_未整理\\old\\front\\雙踝\\002105132B_R.jpg_bi\n",
      "E:\\data_bone\\9-a+b_swift_cut_正確_V2_未整理\\old\\front\\雙踝\\002745333E_L.jpg_bi\n",
      "E:\\data_bone\\9-a+b_swift_cut_正確_V2_未整理\\old\\front\\雙踝\\002835972A_R.jpg_bi\n",
      "E:\\data_bone\\9-a+b_swift_cut_正確_V2_未整理\\old\\side\\三踝\\001023471G_R.jpg_tri\n",
      "E:\\data_bone\\9-a+b_swift_cut_正確_V2_未整理\\old\\side\\三踝\\001253511E_L.jpg_tri\n",
      "E:\\data_bone\\9-a+b_swift_cut_正確_V2_未整理\\old\\side\\三踝\\001348474H_L.jpg_tri\n",
      "E:\\data_bone\\9-a+b_swift_cut_正確_V2_未整理\\old\\side\\三踝\\001348474H_L_2.jpg_tri\n",
      "E:\\data_bone\\9-a+b_swift_cut_正確_V2_未整理\\old\\side\\三踝\\001600347H_L.jpg_tri\n",
      "E:\\data_bone\\9-a+b_swift_cut_正確_V2_未整理\\old\\side\\三踝\\001706292J_R.jpg_tri\n",
      "E:\\data_bone\\9-a+b_swift_cut_正確_V2_未整理\\old\\side\\三踝\\001758318F_L.jpg_tri\n",
      "E:\\data_bone\\9-a+b_swift_cut_正確_V2_未整理\\old\\side\\三踝\\001758318F_R.jpg_tri\n",
      "E:\\data_bone\\9-a+b_swift_cut_正確_V2_未整理\\old\\side\\三踝\\002163835H_L.jpg_tri\n",
      "E:\\data_bone\\9-a+b_swift_cut_正確_V2_未整理\\old\\side\\三踝\\002555500E_L.jpg_tri\n",
      "E:\\data_bone\\9-a+b_swift_cut_正確_V2_未整理\\old\\side\\三踝\\002737939B_R.jpg_tri\n",
      "E:\\data_bone\\9-a+b_swift_cut_正確_V2_未整理\\old\\side\\三踝\\002807609H_L.jpg_tri\n",
      "E:\\data_bone\\9-a+b_swift_cut_正確_V2_未整理\\old\\side\\三踝\\002904952D_L.jpg_tri\n",
      "E:\\data_bone\\9-a+b_swift_cut_正確_V2_未整理\\old\\side\\雙踝\\000007746D_R.jpg_bi\n",
      "E:\\data_bone\\9-a+b_swift_cut_正確_V2_未整理\\old\\side\\雙踝\\000256931F_L.jpg_bi\n",
      "E:\\data_bone\\9-a+b_swift_cut_正確_V2_未整理\\old\\side\\雙踝\\000778448H_L.jpg_bi\n",
      "E:\\data_bone\\9-a+b_swift_cut_正確_V2_未整理\\old\\side\\雙踝\\000984097F_L.jpg_bi\n",
      "E:\\data_bone\\9-a+b_swift_cut_正確_V2_未整理\\old\\side\\雙踝\\002105132B_R.jpg_bi\n",
      "E:\\data_bone\\9-a+b_swift_cut_正確_V2_未整理\\old\\side\\雙踝\\002745333E_L.jpg_bi\n",
      "E:\\data_bone\\9-a+b_swift_cut_正確_V2_未整理\\old\\side\\雙踝\\002835972A_R.jpg_bi\n"
     ]
    }
   ],
   "source": [
    "# 讀取所有舊檔案\n",
    "import os\n",
    "import shutil\n",
    "all_folder = []\n",
    "path_old = \"E:\\\\data_bone\\\\9-a+b_swift_cut_正確_V2_未整理\\\\old\"\n",
    "for root, dirs, files in os.walk(path_old):\n",
    "    for file in files:\n",
    "        all_folder.append(os.path.join(root, file))\n",
    "\n",
    "# 分檔案\n",
    "for f in all_folder:\n",
    "    if \"正常\" in f:\n",
    "        shutil.copy(f, f.replace(\"old\", \"new\"))\n",
    "    elif \"雙踝\" in f:\n",
    "        # 如果檔案在屬於雙踝\n",
    "        if f.split(\"\\\\\")[-1].split(\"_\")[0] in df_bi['uuid'].values:\n",
    "            shutil.copy(f, f.replace(\"old\", \"new\"))\n",
    "        else:\n",
    "            print(f+\"_bi\")\n",
    "    elif \"三踝\" in f:\n",
    "        # 如果檔案在屬於三踝\n",
    "        if f.split(\"\\\\\")[-1].split(\"_\")[0] in df_tri['uuid'].values:\n",
    "            shutil.copy(f, f.replace(\"old\", \"new\"))\n",
    "        else:\n",
    "            print(f+\"_tri\")\n",
    "    else:\n",
    "        None\n"
   ]
  },
  {
   "cell_type": "code",
   "execution_count": null,
   "metadata": {},
   "outputs": [],
   "source": [
    "all_folder"
   ]
  },
  {
   "cell_type": "code",
   "execution_count": 55,
   "metadata": {},
   "outputs": [
    {
     "data": {
      "text/plain": [
       "115"
      ]
     },
     "execution_count": 55,
     "metadata": {},
     "output_type": "execute_result"
    }
   ],
   "source": [
    "len(df_bi)"
   ]
  },
  {
   "cell_type": "code",
   "execution_count": 29,
   "metadata": {},
   "outputs": [
    {
     "data": {
      "text/plain": [
       "124"
      ]
     },
     "execution_count": 29,
     "metadata": {},
     "output_type": "execute_result"
    }
   ],
   "source": [
    "len(df_tri)"
   ]
  }
 ],
 "metadata": {
  "kernelspec": {
   "display_name": "flwr",
   "language": "python",
   "name": "python3"
  },
  "language_info": {
   "codemirror_mode": {
    "name": "ipython",
    "version": 3
   },
   "file_extension": ".py",
   "mimetype": "text/x-python",
   "name": "python",
   "nbconvert_exporter": "python",
   "pygments_lexer": "ipython3",
   "version": "3.7.12"
  }
 },
 "nbformat": 4,
 "nbformat_minor": 2
}
