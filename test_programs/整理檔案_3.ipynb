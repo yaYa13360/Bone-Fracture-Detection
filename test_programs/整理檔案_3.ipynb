{
 "cells": [
  {
   "cell_type": "code",
   "execution_count": null,
   "metadata": {},
   "outputs": [],
   "source": [
    "###################\n",
    "## 整理24資料->clean->clean_2->(放到3-a+b_all_正確)->4-swift_cut_正確\n",
    "# clean\n",
    "## (1. 更名)\n",
    "## 2. 讀csv, 有在名單才保留\n",
    "\n",
    "# clean2\n",
    "## 分front, side, 命名左右\n",
    "## 借整理檔案1 - 3,4,5\n",
    "\n",
    "# 4-swift_cut_all\n",
    "## 借整理檔案2 - 1,2,3\n",
    "###################"
   ]
  },
  {
   "cell_type": "code",
   "execution_count": 140,
   "metadata": {},
   "outputs": [],
   "source": [
    "## clean\n",
    "import csv\n",
    "path_clean = \"E://data_bone//b-24資料//clean\"\n",
    "path_clean2 = \"E://data_bone//b-24資料//clean2\"\n",
    "path_tag = \"E://data_bone//2-tag//tidy(雲端同步)//1-今年資料\"\n",
    "path_csv = [\"E://data_bone//b-24資料//雙踝.csv\", \"E://data_bone//b-24資料//三踝.csv\"]\n",
    "uuid_arr = []\n",
    "\n",
    "# 讀取csv\n",
    "for p_csv in path_csv:\n",
    "    with open(p_csv) as file_obj: \n",
    "        reader_obj = csv.reader(file_obj) \n",
    "        heading = next(file_obj)\n",
    "        for row in reader_obj: \n",
    "            uuid_arr.append(row[0])"
   ]
  },
  {
   "cell_type": "code",
   "execution_count": 57,
   "metadata": {},
   "outputs": [],
   "source": [
    "# 2. 有才保留\n",
    "import os\n",
    "import shutil\n",
    "all_folder = []\n",
    "for root, dirs, files in os.walk(path_clean):\n",
    "    for file in files:\n",
    "        all_folder.append(root)\n",
    "\n",
    "for folder in all_folder:\n",
    "    # print(folder.split(\"\\\\\")[-1])\n",
    "    if folder.split(\"\\\\\")[2] not in uuid_arr:\n",
    "        try:\n",
    "            shutil.rmtree(folder)\n",
    "        except:\n",
    "            None\n",
    "    if \"CT\" in folder:\n",
    "        try:\n",
    "            shutil.rmtree(folder)\n",
    "        except:\n",
    "            None"
   ]
  },
  {
   "cell_type": "code",
   "execution_count": 60,
   "metadata": {},
   "outputs": [],
   "source": [
    "for root, dirs, files in os.walk(path_clean):\n",
    "    for file in files:\n",
    "        if len(root) > 45:\n",
    "            try:\n",
    "                shutil.rmtree(root)\n",
    "            except:\n",
    "                None"
   ]
  },
  {
   "cell_type": "code",
   "execution_count": 115,
   "metadata": {},
   "outputs": [],
   "source": [
    "all_files_tag = []\n",
    "for root, dirs, files in os.walk(path_tag):\n",
    "    for file in files:\n",
    "        all_files_tag.append(os.path.join(root, file))\n",
    "\n",
    "all_files_clean = []\n",
    "for root, dirs, files in os.walk(path_clean):\n",
    "    for file in files:\n",
    "        all_files_clean.append(os.path.join(root, file))\n",
    "        \n",
    "# 刪除clean中tag沒有的資料\n",
    "for file_clean in all_files_clean:\n",
    "    tmp = \"_\".join(file_clean.split(\"\\\\\")[-2:])\n",
    "    key_del = True\n",
    "    for file_tag in all_files_tag:\n",
    "        if tmp in file_tag.replace(\"\\\\\", \"_\"):\n",
    "            key_del = False\n",
    "            # print(file_tag.replace(\"\\\\\", \"_\"))\n",
    "            # print(tmp)\n",
    "            break\n",
    "    if key_del:\n",
    "        # print(file_clean)\n",
    "        os.remove(file_clean)\n",
    "\n"
   ]
  },
  {
   "cell_type": "code",
   "execution_count": 135,
   "metadata": {},
   "outputs": [],
   "source": [
    "# 補足clean中tag有的資料\n",
    "\n",
    "all_files_clean_new = []\n",
    "for root, dirs, files in os.walk(path_clean):\n",
    "    for file in files:\n",
    "        all_files_clean_new.append(os.path.join(root, file))"
   ]
  },
  {
   "cell_type": "code",
   "execution_count": 138,
   "metadata": {},
   "outputs": [
    {
     "name": "stdout",
     "output_type": "stream",
     "text": [
      "175\n",
      "175\n",
      "set()\n"
     ]
    }
   ],
   "source": [
    "print(len(all_files_clean_new))\n",
    "print(len(all_files_tag))\n",
    "\n",
    "all_files_tag_split = [\"\".join((af.split((\"\\\\\"))[-2:])) for af in all_files_tag]\n",
    "all_files_clean_new_split = [\"\".join(cf.split((\"\\\\\"))[-2:]) for cf in all_files_clean_new]\n",
    "print(set(all_files_tag_split)-set(all_files_clean_new_split))"
   ]
  }
 ],
 "metadata": {
  "kernelspec": {
   "display_name": "bone_20240719",
   "language": "python",
   "name": "python3"
  },
  "language_info": {
   "codemirror_mode": {
    "name": "ipython",
    "version": 3
   },
   "file_extension": ".py",
   "mimetype": "text/x-python",
   "name": "python",
   "nbconvert_exporter": "python",
   "pygments_lexer": "ipython3",
   "version": "3.7.12"
  }
 },
 "nbformat": 4,
 "nbformat_minor": 2
}
