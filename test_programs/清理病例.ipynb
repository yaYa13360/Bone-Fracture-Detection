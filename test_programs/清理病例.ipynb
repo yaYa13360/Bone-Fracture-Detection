{
 "cells": [
  {
   "cell_type": "code",
   "execution_count": 32,
   "metadata": {},
   "outputs": [],
   "source": [
    "import os\n",
    "# path1 = \"E://data_bone//雲端//雲端_clean//20230907 三踝骨折65個\"\n",
    "# path2 = \"E://data_bone//正常_三踝//正常_三踝_clean//三踝骨折組\"\n",
    "# path_folder = \"E://data_bone//folder//folder_clean//三踝骨折30組\"\n",
    "\n",
    "path1 = \"E://data_bone//雲端//雲端_clean//20230907 雙踝骨折66個\"\n",
    "\n",
    "path_folder = \"E://data_bone//folder//folder_clean//雙踝骨折30組\"\n",
    "path2 = \"\"\n",
    "path1_uuid = []\n",
    "for root, dirs, files in os.walk(path1):\n",
    "    for file in files:\n",
    "        path1_uuid.append(root.split(\"\\\\\")[-1])\n",
    "\n",
    "path2_uuid = []\n",
    "for root, dirs, files in os.walk(path2):\n",
    "    for file in files:\n",
    "        path2_uuid.append(root.split(\"\\\\\")[-1])\n",
    "\n",
    "path_folder_uuid = []\n",
    "for root, dirs, files in os.walk(path_folder):\n",
    "    for file in files:\n",
    "        path_folder_uuid.append(root.split(\"\\\\\")[-1])"
   ]
  },
  {
   "cell_type": "code",
   "execution_count": 33,
   "metadata": {},
   "outputs": [],
   "source": [
    "import numpy as np\n",
    "\n",
    "all_uuid = np.array(path1_uuid+path2_uuid)\n",
    "all_uuid_unique = np.unique(all_uuid)\n",
    "all_uuid_unique_del = all_uuid_unique.copy()\n",
    "path_folder_uuid\n",
    "for path in path_folder_uuid:\n",
    "    if path in all_uuid_unique_del:\n",
    "        all_uuid_unique_del = all_uuid_unique_del[all_uuid_unique_del != path]"
   ]
  },
  {
   "cell_type": "code",
   "execution_count": 34,
   "metadata": {},
   "outputs": [
    {
     "name": "stdout",
     "output_type": "stream",
     "text": [
      "123\n",
      "58\n",
      "46\n"
     ]
    }
   ],
   "source": [
    "print(len(all_uuid))\n",
    "print(len(all_uuid_unique))\n",
    "print(len(all_uuid_unique_del))"
   ]
  },
  {
   "cell_type": "code",
   "execution_count": 35,
   "metadata": {},
   "outputs": [
    {
     "data": {
      "text/plain": [
       "array(['000007746D', '000012436H', '000016843E', '000256931F',\n",
       "       '000672589J', '000710505H', '000896900E', '000984097F',\n",
       "       '001057721G', '001104379B', '001193773I', '001253511E',\n",
       "       '001295871D', '001315906D', '001358808E', '001404251E',\n",
       "       '001411996B', '001458923C', '001522488B', '001577732J',\n",
       "       '001634666A', '001755045H', '001842212D', '002088265J',\n",
       "       '002118834B', '002292629A', '002349168B', '002369659F',\n",
       "       '002397635E', '002502686C', '002569023H', '002618137D',\n",
       "       '002712399F', '002714991D', '002745333E', '002770593H',\n",
       "       '002794659E', '002804908D', '002807609H', '002835972A',\n",
       "       '002839851I', '002904952D', '002922691D', '002958612H',\n",
       "       '002987785I', '003088311F'], dtype='<U10')"
      ]
     },
     "execution_count": 35,
     "metadata": {},
     "output_type": "execute_result"
    }
   ],
   "source": [
    "all_uuid_unique_del"
   ]
  },
  {
   "cell_type": "code",
   "execution_count": 36,
   "metadata": {},
   "outputs": [],
   "source": [
    "output_csv_path = '雙踝_no_repeat.csv'\n",
    "import csv\n",
    "with open(output_csv_path, mode='w', newline='', encoding='utf-8') as file:\n",
    "    writer = csv.writer(file)\n",
    "    writer.writerow(['uuid'])\n",
    "    for uuid in all_uuid_unique_del:\n",
    "        writer.writerow([uuid])\n"
   ]
  }
 ],
 "metadata": {
  "kernelspec": {
   "display_name": "bone_20240719",
   "language": "python",
   "name": "python3"
  },
  "language_info": {
   "codemirror_mode": {
    "name": "ipython",
    "version": 3
   },
   "file_extension": ".py",
   "mimetype": "text/x-python",
   "name": "python",
   "nbconvert_exporter": "python",
   "pygments_lexer": "ipython3",
   "version": "3.7.12"
  }
 },
 "nbformat": 4,
 "nbformat_minor": 2
}
