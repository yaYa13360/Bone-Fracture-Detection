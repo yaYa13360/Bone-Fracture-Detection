{
 "cells": [
  {
   "cell_type": "code",
   "execution_count": 359,
   "metadata": {},
   "outputs": [],
   "source": [
    "import csv\n",
    "import pandas as pd\n",
    "import os\n",
    "import shutil\n",
    "bi_csv = \"E://data_bone//雙踝_標記整理_read.csv\"\n",
    "tri_csv = \"E://data_bone//三踝_標記整理_read.csv\"\n",
    "path_csv = [bi_csv, tri_csv]\n",
    "data_path = \"E://data_bone//4-a+b_swift_cut_正確\""
   ]
  },
  {
   "cell_type": "code",
   "execution_count": 354,
   "metadata": {},
   "outputs": [],
   "source": [
    "## read by row\n",
    "# for p_csv in path_csv:\n",
    "#     with open(p_csv, encoding='utf-8', errors='replace') as file_obj: \n",
    "#         reader_obj = csv.reader(file_obj) \n",
    "#         heading = next(file_obj)\n",
    "#         for row in reader_obj: \n",
    "#             print(row[0])\n",
    "\n",
    "## read by df\n",
    "df_bi = pd.read_csv(bi_csv, dtype=str)\n",
    "df_tri = pd.read_csv(tri_csv, dtype=str)"
   ]
  },
  {
   "cell_type": "code",
   "execution_count": 362,
   "metadata": {},
   "outputs": [
    {
     "name": "stdout",
     "output_type": "stream",
     "text": [
      "E://data_bone//4-a+b_swift_cut_正確\n",
      "E://data_bone//4-a+b_swift_cut_正確\\front\n",
      "E://data_bone//4-a+b_swift_cut_正確\\front\\三踝\n",
      "E://data_bone//4-a+b_swift_cut_正確\\front\\正常\n",
      "E://data_bone//4-a+b_swift_cut_正確\\front\\雙踝\n",
      "E://data_bone//4-a+b_swift_cut_正確\\side\n",
      "E://data_bone//4-a+b_swift_cut_正確\\side\\三踝\n",
      "E://data_bone//4-a+b_swift_cut_正確\\side\\正常\n",
      "E://data_bone//4-a+b_swift_cut_正確\\side\\雙踝\n"
     ]
    }
   ],
   "source": [
    "df_data_front = pd.DataFrame()\n",
    "df_data_side = pd.DataFrame()\n",
    "for root, dirs, files in os.walk(data_path):\n",
    "    print(root)\n",
    "    for file in files:\n",
    "        # print(files)\n",
    "        file_tmp = file.split(\"_\")[0]\n",
    "        # print(file_tmp)\n",
    "        csv_tmp = []\n",
    "        csv_tmp = []\n",
    "        class_tmp = 0\n",
    "\n",
    "\n",
    "        ## 先確定在哪個class\n",
    "        if \"雙踝\" in root:\n",
    "            csv_tmp = df_bi\n",
    "            class_tmp= 1\n",
    "        elif \"三踝\" in root:\n",
    "            csv_tmp = df_tri\n",
    "            class_tmp = 2\n",
    "        else:\n",
    "            ## 不處理正常組\n",
    "            # class_tmp =  0\n",
    "            break\n",
    "\n",
    "        ## 找這個file的紀錄\n",
    "        data_tmp = csv_tmp[csv_tmp['uuid'] == file_tmp].reset_index(drop=True)\n",
    "        if len(data_tmp)  == 0:\n",
    "            print(f\"{file_tmp} not in csv, {class_tmp}\")\n",
    "        elif (class_tmp== 1) and (data_tmp.iloc[0]['tri'] == 'tri'):\n",
    "            print(f\"{file_tmp} in csv but tri, {class_tmp}\")\n",
    "        else:\n",
    "            ## 決定要存在哪個df\n",
    "            data_tmp['class'] = class_tmp\n",
    "            data_tmp['path'] = os.path.join(root, file)\n",
    "            \n",
    "            if \"front\" in root:\n",
    "                df_data_front = pd.concat([df_data_front, data_tmp.iloc[[0]]], axis=0)\n",
    "            else:\n",
    "                df_data_side = pd.concat([df_data_side, data_tmp.iloc[[0]]], axis=0)\n",
    "            # print(\"done\")\n",
    "\n",
    "\n",
    "\n",
    "            \n",
    "\n"
   ]
  },
  {
   "cell_type": "code",
   "execution_count": 363,
   "metadata": {},
   "outputs": [
    {
     "name": "stdout",
     "output_type": "stream",
     "text": [
      "124\n",
      "124\n",
      "set()\n",
      "set()\n"
     ]
    }
   ],
   "source": [
    "## 資料夾校正\n",
    "\n",
    "compare_file = \"//front//雙踝\"\n",
    "file2 = \"E://data_bone//4-a+b_swift_cut_正確\" + compare_file\n",
    "file1 = \"E://data_bone//3-a+b_all_正確/\" + compare_file\n",
    "arr2 = []\n",
    "arr = []\n",
    "s = 0\n",
    "\n",
    "for root, dirs, files in os.walk(file2):\n",
    "    for file in files:\n",
    "        arr2.append(file)\n",
    "    print(len(files))\n",
    "\n",
    "for root, dirs, files in os.walk(file1):\n",
    "    s += len(files)\n",
    "    for file in files:\n",
    "        # print(os.path.join(root, file).split(\"\\\\\"))\n",
    "       arr.append(\"_\".join(os.path.join(root, file).split(\"\\\\\")[-2:]))\n",
    "print(s)\n",
    "\n",
    "\n",
    "print(set(arr)-set((arr2)))\n",
    "print(set(arr2)-set((arr)))"
   ]
  },
  {
   "cell_type": "code",
   "execution_count": 384,
   "metadata": {},
   "outputs": [
    {
     "data": {
      "text/plain": [
       "39"
      ]
     },
     "execution_count": 384,
     "metadata": {},
     "output_type": "execute_result"
    }
   ],
   "source": [
    "## 挑標準資料\n",
    "\n",
    "# data = df_data_side[(df_data_side['class'] == 2) & (df_data_side['L'] == '111') & (df_data_side['AP+M'] == '111')]\n",
    "# data = df_data_side[(df_data_side['class'] == 1) & (df_data_side['L'] == '110') & (df_data_side['AP+M'] == '110')]\n",
    "\n",
    "# data = df_data_front[(df_data_front['class'] == 2) & (df_data_front['L'] == '111') & (df_data_front['AP+M'] == '111')]\n",
    "data = df_data_front[(df_data_front['class'] == 1) & (df_data_front['L'] == '110') & (df_data_front['AP+M'] == '110')]\n",
    "# for index, row in data.iterrows():\n",
    "#     src_path = row['path']  # 假設 'path' 是來源檔案的路徑\n",
    "#     dst_path = src_path.replace('4-a+b_swift_cut_正確', '5-a+b_swift_cut_標準')\n",
    "#     shutil.copy(src_path, dst_path)\n",
    "\n",
    "len(data)"
   ]
  }
 ],
 "metadata": {
  "kernelspec": {
   "display_name": "bone_20240719",
   "language": "python",
   "name": "python3"
  },
  "language_info": {
   "codemirror_mode": {
    "name": "ipython",
    "version": 3
   },
   "file_extension": ".py",
   "mimetype": "text/x-python",
   "name": "python",
   "nbconvert_exporter": "python",
   "pygments_lexer": "ipython3",
   "version": "3.7.12"
  }
 },
 "nbformat": 4,
 "nbformat_minor": 2
}
