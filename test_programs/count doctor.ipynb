{
 "cells": [
  {
   "cell_type": "code",
   "execution_count": 19,
   "metadata": {},
   "outputs": [],
   "source": [
    "import pandas as pd\n",
    "\n",
    "# 讀取 CSV 文件\n",
    "df = pd.read_csv('tmp.csv')\n",
    "\n",
    "df = df.iloc[:100, :9]\n",
    "df = df.astype(int)\n"
   ]
  },
  {
   "cell_type": "code",
   "execution_count": 36,
   "metadata": {},
   "outputs": [
    {
     "data": {
      "text/plain": [
       "0.12"
      ]
     },
     "execution_count": 36,
     "metadata": {},
     "output_type": "execute_result"
    }
   ],
   "source": [
    "from sklearn.metrics import f1_score, accuracy_score\n",
    "import numpy as np\n",
    "acc_a = accuracy_score(df['a'], df['ans'])\n",
    "acc_b = accuracy_score(df['b'], df['ans'])\n",
    "acc_c = accuracy_score(df['c'], df['ans'])\n",
    "acc_d = accuracy_score(df['d'], df['ans'])\n",
    "acc_e = accuracy_score(df['e'], df['ans'])\n",
    "acc_f = accuracy_score(df['f'], df['ans'])\n",
    "acc_g = accuracy_score(df['g'], df['ans'])\n",
    "acc_h = accuracy_score(df['h'], df['ans'])\n",
    "\n",
    "# 計算所有準確度的平均值\n",
    "np.round(np.mean([acc_a, acc_b, acc_c, acc_d, acc_e, acc_f, acc_g, acc_h]), 2)\n",
    "np.round(np.std([acc_a, acc_b, acc_c, acc_d, acc_e, acc_f, acc_g, acc_h]), 2)\n"
   ]
  },
  {
   "cell_type": "code",
   "execution_count": 38,
   "metadata": {},
   "outputs": [
    {
     "data": {
      "text/plain": [
       "0.79"
      ]
     },
     "execution_count": 38,
     "metadata": {},
     "output_type": "execute_result"
    }
   ],
   "source": [
    "np.round(np.mean([acc_a, acc_b, acc_c]), 2)\n",
    "# np.round(np.std([acc_a, acc_b, acc_c]), 2)"
   ]
  },
  {
   "cell_type": "code",
   "execution_count": 47,
   "metadata": {},
   "outputs": [
    {
     "data": {
      "text/plain": [
       "0.53"
      ]
     },
     "execution_count": 47,
     "metadata": {},
     "output_type": "execute_result"
    }
   ],
   "source": [
    "acc_a = f1_score(df['a'], df['ans'], average='macro')\n",
    "acc_b = f1_score(df['b'], df['ans'], average='macro')\n",
    "acc_c = f1_score(df['c'], df['ans'], average='macro')\n",
    "acc_d = f1_score(df['d'], df['ans'], average='macro')\n",
    "acc_e = f1_score(df['e'], df['ans'], average='macro')\n",
    "acc_f = f1_score(df['f'], df['ans'], average='macro')\n",
    "acc_g = f1_score(df['g'], df['ans'], average='macro')\n",
    "acc_h = f1_score(df['h'], df['ans'], average='macro')\n",
    "\n",
    "# 計算所有準確度的平均值\n",
    "np.round(np.mean([acc_a, acc_b, acc_c, acc_d, acc_e, acc_f, acc_g, acc_h]), 2)\n",
    "# np.round(np.std([acc_a, acc_b, acc_c, acc_d, acc_e, acc_f, acc_g, acc_h]), 2)\n"
   ]
  },
  {
   "cell_type": "code",
   "execution_count": 52,
   "metadata": {},
   "outputs": [
    {
     "data": {
      "text/plain": [
       "0.05"
      ]
     },
     "execution_count": 52,
     "metadata": {},
     "output_type": "execute_result"
    }
   ],
   "source": [
    "np.round(np.mean([acc_a, acc_b, acc_c]), 2)\n",
    "np.round(np.std([acc_a, acc_b, acc_c]), 2)"
   ]
  }
 ],
 "metadata": {
  "kernelspec": {
   "display_name": "bone_20240719",
   "language": "python",
   "name": "python3"
  },
  "language_info": {
   "codemirror_mode": {
    "name": "ipython",
    "version": 3
   },
   "file_extension": ".py",
   "mimetype": "text/x-python",
   "name": "python",
   "nbconvert_exporter": "python",
   "pygments_lexer": "ipython3",
   "version": "3.7.12"
  }
 },
 "nbformat": 4,
 "nbformat_minor": 2
}
