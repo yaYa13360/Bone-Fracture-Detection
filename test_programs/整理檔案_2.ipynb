{
 "cells": [
  {
   "cell_type": "code",
   "execution_count": null,
   "metadata": {},
   "outputs": [],
   "source": [
    "###################\n",
    "## 整理all->1-swift_cut\n",
    "## 1. 重新命名\n",
    "## 2. 處理swift\n",
    "## 3. 手動cut\n",
    "###################"
   ]
  },
  {
   "cell_type": "code",
   "execution_count": 7,
   "metadata": {},
   "outputs": [],
   "source": [
    "import os\n",
    "# original_path = \"E://data_bone//1-swift_cut_tmp\"\n",
    "# final_path = \"E://data_bone//1-swift_cut\"\n",
    "original_path = \"E://data_bone//b-24資料//clean_2_swift_cut_tmp\"\n",
    "final_path = \"E://data_bone//b-24資料//clean_2_swift_cut\"\n",
    "all_files = []\n",
    "for root, dirs, files in os.walk(original_path):\n",
    "    for file in files:\n",
    "        all_files.append(os.path.join(root, file))\n"
   ]
  },
  {
   "cell_type": "code",
   "execution_count": 8,
   "metadata": {},
   "outputs": [],
   "source": [
    "## 1. 重新命名\n",
    "import shutil\n",
    "for file in all_files:\n",
    "    new_path = file[::-1].replace(\"\\\\\", \"_\", 1)[::-1]\n",
    "    new_path = new_path.replace(\"_tmp\", \"\")\n",
    "    shutil.move(file, new_path)"
   ]
  },
  {
   "cell_type": "code",
   "execution_count": 12,
   "metadata": {},
   "outputs": [],
   "source": [
    "## 2. 處理swift\n",
    "## 只有front要翻轉, side不用\n",
    "from PIL import Image\n",
    "import os\n",
    "# final_path = \"E://data_bone//1-swift_cut//front\"\n",
    "final_path = \"E://data_bone//b-24資料//clean_2_swift_cut//front\"\n",
    "for root, dirs, files in os.walk(final_path):\n",
    "    for file in files:\n",
    "        file_path = os.path.join(root, file)\n",
    "        if \"_R\" in file_path:\n",
    "            image = Image.open(file_path)\n",
    "            flipped_image = image.transpose(Image.FLIP_LEFT_RIGHT)\n",
    "            flipped_image.save(file_path)"
   ]
  }
 ],
 "metadata": {
  "kernelspec": {
   "display_name": "bone_20240719",
   "language": "python",
   "name": "python3"
  },
  "language_info": {
   "codemirror_mode": {
    "name": "ipython",
    "version": 3
   },
   "file_extension": ".py",
   "mimetype": "text/x-python",
   "name": "python",
   "nbconvert_exporter": "python",
   "pygments_lexer": "ipython3",
   "version": "3.7.12"
  }
 },
 "nbformat": 4,
 "nbformat_minor": 2
}
