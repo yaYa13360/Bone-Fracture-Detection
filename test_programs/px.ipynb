{
 "cells": [
  {
   "cell_type": "code",
   "execution_count": 7,
   "metadata": {},
   "outputs": [
    {
     "name": "stdout",
     "output_type": "stream",
     "text": [
      "寬度範圍: 760 - 2208 pixels\n",
      "高度範圍: 1080 - 2943 pixels\n"
     ]
    }
   ],
   "source": [
    "from PIL import Image\n",
    "import os\n",
    "\n",
    "def get_image_size_range(folder_path):\n",
    "    widths = []\n",
    "    heights = []\n",
    "\n",
    "    # 遞迴遍歷資料夾及其子資料夾\n",
    "    for root, _, files in os.walk(folder_path):\n",
    "        for file in files:\n",
    "            if file.lower().endswith(\".jpg\"):  # 可擴展支援更多格式\n",
    "                img_path = os.path.join(root, file)\n",
    "                try:\n",
    "                    with Image.open(img_path) as img:\n",
    "                        widths.append(img.width)\n",
    "                        heights.append(img.height)\n",
    "                except Exception as e:\n",
    "                    print(f\"無法讀取 {img_path}: {e}\")\n",
    "\n",
    "    if widths and heights:\n",
    "        print(f\"寬度範圍: {min(widths)} - {max(widths)} pixels\")\n",
    "        print(f\"高度範圍: {min(heights)} - {max(heights)} pixels\")\n",
    "    else:\n",
    "        print(\"沒有找到任何 .jpg 圖片\")\n",
    "\n",
    "\n",
    "# 指定你要掃描的資料夾\n",
    "folder_path = \"E://data_bone//3-a+b_all_正確//front\"\n",
    "get_image_size_range(folder_path)\n"
   ]
  },
  {
   "cell_type": "code",
   "execution_count": 3,
   "metadata": {},
   "outputs": [
    {
     "name": "stdout",
     "output_type": "stream",
     "text": [
      "寬度範圍: 414 - 1259 pixels\n",
      "高度範圍: 593 - 2159 pixels\n"
     ]
    }
   ],
   "source": [
    "folder_path = \"E://data_bone//4-a+b_swift_cut_正確\"\n",
    "get_image_size_range(folder_path)"
   ]
  }
 ],
 "metadata": {
  "kernelspec": {
   "display_name": "bone_20240719",
   "language": "python",
   "name": "python3"
  },
  "language_info": {
   "codemirror_mode": {
    "name": "ipython",
    "version": 3
   },
   "file_extension": ".py",
   "mimetype": "text/x-python",
   "name": "python",
   "nbconvert_exporter": "python",
   "pygments_lexer": "ipython3",
   "version": "3.7.12"
  }
 },
 "nbformat": 4,
 "nbformat_minor": 2
}
