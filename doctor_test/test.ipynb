{
 "cells": [
  {
   "cell_type": "markdown",
   "metadata": {},
   "source": [
    "## bi_tri"
   ]
  },
  {
   "cell_type": "code",
   "execution_count": 10,
   "metadata": {},
   "outputs": [],
   "source": [
    "filename = \"uuid.txt\"\n",
    "uuid_arr = []\n",
    "with open(filename) as file:\n",
    "    for line in file:\n",
    "        uuid_arr.append(line.rstrip())"
   ]
  },
  {
   "cell_type": "code",
   "execution_count": 11,
   "metadata": {},
   "outputs": [
    {
     "data": {
      "text/plain": [
       "66"
      ]
     },
     "execution_count": 11,
     "metadata": {},
     "output_type": "execute_result"
    }
   ],
   "source": [
    "len(set(uuid_arr))"
   ]
  },
  {
   "cell_type": "code",
   "execution_count": null,
   "metadata": {},
   "outputs": [],
   "source": [
    "import os\n",
    "img_path = \"E://data_bone//4-a+b_swift_cut_正確//side\"\n",
    "# img_path = \"E://data_bone//4-a+b_swift_cut_正確//front\"\n",
    "all_path_arr = []\n",
    "for root, dirs, files in os.walk(img_path):\n",
    "        for file in files:\n",
    "            # print(os.path.join(root, file))\n",
    "            all_path_arr.append(os.path.join(root, file))\n",
    "\n",
    "bi_arr = []\n",
    "tri_arr = []\n",
    "nor_arr = []\n",
    "for uuid in set(uuid_arr):\n",
    "    check_key = 0\n",
    "    for all_path in all_path_arr:\n",
    "        if uuid in all_path:\n",
    "            bi_tri_type = all_path.split(\"\\\\\")[-2]\n",
    "            if bi_tri_type == \"三踝\":\n",
    "                ## 用來檢查的\n",
    "                # tri_arr.append(all_path.split(\"\\\\\")[-1].split(\"_\")[0])\n",
    "                tri_arr.append(all_path)\n",
    "            elif bi_tri_type == \"雙踝\":\n",
    "                # bi_arr.append(all_path.split(\"\\\\\")[-1].split(\"_\")[0])\n",
    "                bi_arr.append(all_path)\n",
    "            elif bi_tri_type == \"正常\":\n",
    "                # nor_arr.append(all_path.split(\"\\\\\")[-1].split(\"_\")[0])\n",
    "                nor_arr.append(all_path)\n",
    "            check_key = 1\n",
    "    if check_key == 0:\n",
    "        print(uuid)\n",
    "            \n",
    "                 \n",
    "                 \n",
    "        \n"
   ]
  },
  {
   "cell_type": "code",
   "execution_count": 29,
   "metadata": {},
   "outputs": [
    {
     "name": "stdout",
     "output_type": "stream",
     "text": [
      "True\n",
      "True\n",
      "True\n",
      "\n",
      "[]\n",
      "33 33 0\n",
      "True\n"
     ]
    }
   ],
   "source": [
    "bi = set(bi_arr)\n",
    "tri = set(tri_arr)\n",
    "nor = set(nor_arr)\n",
    "print(len(bi_arr) == len(bi))\n",
    "print(len(tri_arr) == len(tri))\n",
    "print(len(nor_arr) == len(nor))\n",
    "print()\n",
    "print(list(tri & set(bi)))\n",
    "print(len(bi), len(tri), len(nor))\n",
    "print(len(bi)+len(tri)+len(nor) == len(set(uuid_arr)))"
   ]
  },
  {
   "cell_type": "code",
   "execution_count": 14,
   "metadata": {},
   "outputs": [
    {
     "name": "stdout",
     "output_type": "stream",
     "text": [
      "[]\n"
     ]
    }
   ],
   "source": [
    "from collections import Counter\n",
    "x = tri_arr\n",
    "count_a = Counter(x)\n",
    "count_b = Counter(set(x))\n",
    "\n",
    "difference = count_a - count_b \n",
    "\n",
    "result = list(difference.elements())\n",
    "print(result) \n"
   ]
  },
  {
   "cell_type": "markdown",
   "metadata": {},
   "source": [
    "## nor"
   ]
  },
  {
   "cell_type": "code",
   "execution_count": 15,
   "metadata": {},
   "outputs": [],
   "source": [
    "filename2 = \"uuid_nor.txt\"\n",
    "uuid_arr2 = []\n",
    "with open(filename2) as file:\n",
    "    for line in file:\n",
    "        uuid_arr2.append(line.rstrip())"
   ]
  },
  {
   "cell_type": "code",
   "execution_count": 35,
   "metadata": {},
   "outputs": [
    {
     "name": "stdout",
     "output_type": "stream",
     "text": [
      "True\n",
      "True\n",
      "34\n"
     ]
    }
   ],
   "source": [
    "all_path_arr2 = []\n",
    "for root, dirs, files in os.walk(img_path):\n",
    "        for file in files:\n",
    "            # print(os.path.join(root, file))\n",
    "            all_path_arr2.append(os.path.join(root, file))\n",
    "\n",
    "bi_arr2 = []\n",
    "tri_arr2 = []\n",
    "nor_arr2 = []\n",
    "for uuid in set(uuid_arr2):\n",
    "    check_key = 0\n",
    "    for all_path2 in all_path_arr2:\n",
    "        if uuid in all_path2:\n",
    "            bi_tri_type = all_path2.split(\"\\\\\")[-2]\n",
    "            if bi_tri_type == \"三踝\":\n",
    "                tri_arr2.append(all_path2)\n",
    "            elif bi_tri_type == \"雙踝\":\n",
    "                bi_arr2.append(all_path2)\n",
    "            elif bi_tri_type == \"正常\":\n",
    "                nor_arr2.append(all_path2)\n",
    "            check_key = 1\n",
    "    if check_key == 0:\n",
    "        print(uuid)\n",
    "\n",
    "\n",
    "print(len(bi_arr2) == 0)\n",
    "print(len(tri_arr2) == 0)\n",
    "nor = set(nor_arr2)\n",
    "print(len(nor_arr2))"
   ]
  },
  {
   "cell_type": "code",
   "execution_count": 45,
   "metadata": {},
   "outputs": [
    {
     "data": {
      "text/plain": [
       "100"
      ]
     },
     "execution_count": 45,
     "metadata": {},
     "output_type": "execute_result"
    }
   ],
   "source": [
    "all = list(bi)+list(nor)+list(tri)\n",
    "len(all)"
   ]
  },
  {
   "cell_type": "code",
   "execution_count": 46,
   "metadata": {},
   "outputs": [
    {
     "data": {
      "text/plain": [
       "['E://data_bone//4-a+b_swift_cut_正確//side\\\\雙踝\\\\001334670I_L.jpg',\n",
       " 'E://data_bone//4-a+b_swift_cut_正確//side\\\\雙踝\\\\002660751C_R.jpg',\n",
       " 'E://data_bone//4-a+b_swift_cut_正確//side\\\\雙踝\\\\000746268C_R.jpg',\n",
       " 'E://data_bone//4-a+b_swift_cut_正確//side\\\\雙踝\\\\000073192A_L.jpg',\n",
       " 'E://data_bone//4-a+b_swift_cut_正確//side\\\\雙踝\\\\000733128E_L.jpg',\n",
       " 'E://data_bone//4-a+b_swift_cut_正確//side\\\\雙踝\\\\000827590J_R.jpg',\n",
       " 'E://data_bone//4-a+b_swift_cut_正確//side\\\\雙踝\\\\001442921B_R.jpg',\n",
       " 'E://data_bone//4-a+b_swift_cut_正確//side\\\\雙踝\\\\002620627J_R.jpg',\n",
       " 'E://data_bone//4-a+b_swift_cut_正確//side\\\\雙踝\\\\002561319I_L.jpg',\n",
       " 'E://data_bone//4-a+b_swift_cut_正確//side\\\\雙踝\\\\002549797G_L.jpg',\n",
       " 'E://data_bone//4-a+b_swift_cut_正確//side\\\\雙踝\\\\001243304E_L.jpg',\n",
       " 'E://data_bone//4-a+b_swift_cut_正確//side\\\\雙踝\\\\000614556I_R.jpg',\n",
       " 'E://data_bone//4-a+b_swift_cut_正確//side\\\\雙踝\\\\001309187H_L.jpg',\n",
       " 'E://data_bone//4-a+b_swift_cut_正確//side\\\\雙踝\\\\002653682D_L.jpg',\n",
       " 'E://data_bone//4-a+b_swift_cut_正確//side\\\\雙踝\\\\002181472C_L.jpg',\n",
       " 'E://data_bone//4-a+b_swift_cut_正確//side\\\\雙踝\\\\002615204F_R.jpg',\n",
       " 'E://data_bone//4-a+b_swift_cut_正確//side\\\\雙踝\\\\002294223A_R.jpg',\n",
       " 'E://data_bone//4-a+b_swift_cut_正確//side\\\\雙踝\\\\001154623J_R.jpg',\n",
       " 'E://data_bone//4-a+b_swift_cut_正確//side\\\\雙踝\\\\002011721J_R.jpg',\n",
       " 'E://data_bone//4-a+b_swift_cut_正確//side\\\\雙踝\\\\001470230I_R.jpg',\n",
       " 'E://data_bone//4-a+b_swift_cut_正確//side\\\\雙踝\\\\002375803E_R.jpg',\n",
       " 'E://data_bone//4-a+b_swift_cut_正確//side\\\\雙踝\\\\001970344H_R.jpg',\n",
       " 'E://data_bone//4-a+b_swift_cut_正確//side\\\\雙踝\\\\002538096F_L.jpg',\n",
       " 'E://data_bone//4-a+b_swift_cut_正確//side\\\\雙踝\\\\002309365E_R.jpg',\n",
       " 'E://data_bone//4-a+b_swift_cut_正確//side\\\\雙踝\\\\002622196F_L.jpg',\n",
       " 'E://data_bone//4-a+b_swift_cut_正確//side\\\\雙踝\\\\000597192G_R.jpg',\n",
       " 'E://data_bone//4-a+b_swift_cut_正確//side\\\\雙踝\\\\000113998G_L.jpg',\n",
       " 'E://data_bone//4-a+b_swift_cut_正確//side\\\\雙踝\\\\002358396C_R.jpg',\n",
       " 'E://data_bone//4-a+b_swift_cut_正確//side\\\\雙踝\\\\001135192B_L.jpg',\n",
       " 'E://data_bone//4-a+b_swift_cut_正確//side\\\\雙踝\\\\002336370E_R.jpg',\n",
       " 'E://data_bone//4-a+b_swift_cut_正確//side\\\\雙踝\\\\000947946D_R.jpg',\n",
       " 'E://data_bone//4-a+b_swift_cut_正確//side\\\\雙踝\\\\002606857F_R.jpg',\n",
       " 'E://data_bone//4-a+b_swift_cut_正確//side\\\\雙踝\\\\001247832J_L.jpg',\n",
       " 'E://data_bone//4-a+b_swift_cut_正確//side\\\\正常\\\\001466426H_L.jpg',\n",
       " 'E://data_bone//4-a+b_swift_cut_正確//side\\\\正常\\\\001455017F_R.jpg',\n",
       " 'E://data_bone//4-a+b_swift_cut_正確//side\\\\正常\\\\000047083H_L.jpg',\n",
       " 'E://data_bone//4-a+b_swift_cut_正確//side\\\\正常\\\\001054203H_R.jpg',\n",
       " 'E://data_bone//4-a+b_swift_cut_正確//side\\\\正常\\\\001120714A_R.jpg',\n",
       " 'E://data_bone//4-a+b_swift_cut_正確//side\\\\正常\\\\001120714A_L.jpg',\n",
       " 'E://data_bone//4-a+b_swift_cut_正確//side\\\\正常\\\\001455017F_L.jpg',\n",
       " 'E://data_bone//4-a+b_swift_cut_正確//side\\\\正常\\\\000602012I_R.jpg',\n",
       " 'E://data_bone//4-a+b_swift_cut_正確//side\\\\正常\\\\000936387F_R.jpg',\n",
       " 'E://data_bone//4-a+b_swift_cut_正確//side\\\\正常\\\\001136744F_R.jpg',\n",
       " 'E://data_bone//4-a+b_swift_cut_正確//side\\\\正常\\\\001189670B_L.jpg',\n",
       " 'E://data_bone//4-a+b_swift_cut_正確//side\\\\正常\\\\000435974E_R.jpg',\n",
       " 'E://data_bone//4-a+b_swift_cut_正確//side\\\\正常\\\\001132438C_R.jpg',\n",
       " 'E://data_bone//4-a+b_swift_cut_正確//side\\\\正常\\\\001054203H_L.jpg',\n",
       " 'E://data_bone//4-a+b_swift_cut_正確//side\\\\正常\\\\000047083H_R.jpg',\n",
       " 'E://data_bone//4-a+b_swift_cut_正確//side\\\\正常\\\\000435974E_L.jpg',\n",
       " 'E://data_bone//4-a+b_swift_cut_正確//side\\\\正常\\\\001264772C_L.jpg',\n",
       " 'E://data_bone//4-a+b_swift_cut_正確//side\\\\正常\\\\000598291C_L.jpg',\n",
       " 'E://data_bone//4-a+b_swift_cut_正確//side\\\\正常\\\\001189670B_R.jpg',\n",
       " 'E://data_bone//4-a+b_swift_cut_正確//side\\\\正常\\\\000091353B_L.jpg',\n",
       " 'E://data_bone//4-a+b_swift_cut_正確//side\\\\正常\\\\001132438C_L.jpg',\n",
       " 'E://data_bone//4-a+b_swift_cut_正確//side\\\\正常\\\\001466426H_R.jpg',\n",
       " 'E://data_bone//4-a+b_swift_cut_正確//side\\\\正常\\\\001343885C_L.jpg',\n",
       " 'E://data_bone//4-a+b_swift_cut_正確//side\\\\正常\\\\000139092H_L.jpg',\n",
       " 'E://data_bone//4-a+b_swift_cut_正確//side\\\\正常\\\\001292237B_R.jpg',\n",
       " 'E://data_bone//4-a+b_swift_cut_正確//side\\\\正常\\\\000936387F_L.jpg',\n",
       " 'E://data_bone//4-a+b_swift_cut_正確//side\\\\正常\\\\000602012I_L.jpg',\n",
       " 'E://data_bone//4-a+b_swift_cut_正確//side\\\\正常\\\\001136744F_L.jpg',\n",
       " 'E://data_bone//4-a+b_swift_cut_正確//side\\\\正常\\\\001292237B_L.jpg',\n",
       " 'E://data_bone//4-a+b_swift_cut_正確//side\\\\正常\\\\000598291C_R.jpg',\n",
       " 'E://data_bone//4-a+b_swift_cut_正確//side\\\\正常\\\\000139092H_R.jpg',\n",
       " 'E://data_bone//4-a+b_swift_cut_正確//side\\\\正常\\\\001264772C_R.jpg',\n",
       " 'E://data_bone//4-a+b_swift_cut_正確//side\\\\正常\\\\000091353B_R.jpg',\n",
       " 'E://data_bone//4-a+b_swift_cut_正確//side\\\\正常\\\\001343885C_R.jpg',\n",
       " 'E://data_bone//4-a+b_swift_cut_正確//side\\\\三踝\\\\002838799H_R.jpg',\n",
       " 'E://data_bone//4-a+b_swift_cut_正確//side\\\\三踝\\\\001496597A_L.jpg',\n",
       " 'E://data_bone//4-a+b_swift_cut_正確//side\\\\三踝\\\\002520589E_L.jpg',\n",
       " 'E://data_bone//4-a+b_swift_cut_正確//side\\\\三踝\\\\002989963G_R.jpg',\n",
       " 'E://data_bone//4-a+b_swift_cut_正確//side\\\\三踝\\\\002149758F_L.jpg',\n",
       " 'E://data_bone//4-a+b_swift_cut_正確//side\\\\三踝\\\\000833618D_L.jpg',\n",
       " 'E://data_bone//4-a+b_swift_cut_正確//side\\\\三踝\\\\002200547G_L.jpg',\n",
       " 'E://data_bone//4-a+b_swift_cut_正確//side\\\\三踝\\\\000127859H_R.jpg',\n",
       " 'E://data_bone//4-a+b_swift_cut_正確//side\\\\三踝\\\\002163835H_L.jpg',\n",
       " 'E://data_bone//4-a+b_swift_cut_正確//side\\\\三踝\\\\001184477C_L.jpg',\n",
       " 'E://data_bone//4-a+b_swift_cut_正確//side\\\\三踝\\\\002628186H_R.jpg',\n",
       " 'E://data_bone//4-a+b_swift_cut_正確//side\\\\三踝\\\\001958124J_L.jpg',\n",
       " 'E://data_bone//4-a+b_swift_cut_正確//side\\\\三踝\\\\002449591I_L.jpg',\n",
       " 'E://data_bone//4-a+b_swift_cut_正確//side\\\\三踝\\\\002581753C_R.jpg',\n",
       " 'E://data_bone//4-a+b_swift_cut_正確//side\\\\三踝\\\\001617424G_R.jpg',\n",
       " 'E://data_bone//4-a+b_swift_cut_正確//side\\\\三踝\\\\002465230A_R.jpg',\n",
       " 'E://data_bone//4-a+b_swift_cut_正確//side\\\\三踝\\\\002075611A_L.jpg',\n",
       " 'E://data_bone//4-a+b_swift_cut_正確//side\\\\三踝\\\\001780977H_R.jpg',\n",
       " 'E://data_bone//4-a+b_swift_cut_正確//side\\\\三踝\\\\002663741C_R.jpg',\n",
       " 'E://data_bone//4-a+b_swift_cut_正確//side\\\\三踝\\\\000899413G_R.jpg',\n",
       " 'E://data_bone//4-a+b_swift_cut_正確//side\\\\三踝\\\\002658681C_L.jpg',\n",
       " 'E://data_bone//4-a+b_swift_cut_正確//side\\\\三踝\\\\000673171B_R.jpg',\n",
       " 'E://data_bone//4-a+b_swift_cut_正確//side\\\\三踝\\\\001101501D_L.jpg',\n",
       " 'E://data_bone//4-a+b_swift_cut_正確//side\\\\三踝\\\\001683225A_R.jpg',\n",
       " 'E://data_bone//4-a+b_swift_cut_正確//side\\\\三踝\\\\002124062A_L.jpg',\n",
       " 'E://data_bone//4-a+b_swift_cut_正確//side\\\\三踝\\\\001960213C_R.jpg',\n",
       " 'E://data_bone//4-a+b_swift_cut_正確//side\\\\三踝\\\\002451539H_L.jpg',\n",
       " 'E://data_bone//4-a+b_swift_cut_正確//side\\\\三踝\\\\002816450D_L.jpg',\n",
       " 'E://data_bone//4-a+b_swift_cut_正確//side\\\\三踝\\\\001284091E_R.jpg',\n",
       " 'E://data_bone//4-a+b_swift_cut_正確//side\\\\三踝\\\\002812483G_L.jpg',\n",
       " 'E://data_bone//4-a+b_swift_cut_正確//side\\\\三踝\\\\002164833J_R.jpg',\n",
       " 'E://data_bone//4-a+b_swift_cut_正確//side\\\\三踝\\\\000034129H_L.jpg',\n",
       " 'E://data_bone//4-a+b_swift_cut_正確//side\\\\三踝\\\\002452272D_R.jpg']"
      ]
     },
     "execution_count": 46,
     "metadata": {},
     "output_type": "execute_result"
    }
   ],
   "source": [
    "all"
   ]
  },
  {
   "cell_type": "markdown",
   "metadata": {},
   "source": [
    "## 設計測試資料"
   ]
  },
  {
   "cell_type": "code",
   "execution_count": 51,
   "metadata": {},
   "outputs": [],
   "source": [
    "import random\n",
    "random.shuffle(all)\n"
   ]
  },
  {
   "cell_type": "code",
   "execution_count": null,
   "metadata": {},
   "outputs": [],
   "source": [
    "## 測試答案\n",
    "ans_index = []\n",
    "for a in all:\n",
    "    if a in nor:\n",
    "        ans_index.append(1)\n",
    "    elif a in bi:\n",
    "        ans_index.append(2)\n",
    "    elif a in tri:\n",
    "        ans_index.append(3)"
   ]
  },
  {
   "cell_type": "code",
   "execution_count": 65,
   "metadata": {},
   "outputs": [],
   "source": [
    "destination_folder = \"E://data_bone//20241211//測試資料//測試資料_100case\"\n",
    "\n",
    "import shutil\n",
    "import os\n",
    "\n",
    "for i in range(len(all)):\n",
    "    destination_folder_i = destination_folder+\"//\"+str(i)\n",
    "    if not os.path.exists(destination_folder_i):\n",
    "        os.makedirs(destination_folder_i)\n",
    "    with open(destination_folder_i+\"//ans.txt\", \"w\") as file:\n",
    "        pass\n",
    "\n",
    "    destination_path_1 = os.path.join(destination_folder_i, \"1.jpg\")\n",
    "    destination_path_2 = os.path.join(destination_folder_i, \"2.jpg\")\n",
    "    shutil.copy(all[i], destination_path_1)\n",
    "    shutil.copy(all[i].replace(\"side\", \"front\"), destination_path_2)\n"
   ]
  },
  {
   "cell_type": "code",
   "execution_count": 70,
   "metadata": {},
   "outputs": [
    {
     "name": "stdout",
     "output_type": "stream",
     "text": [
      "34\n",
      "33\n",
      "33\n"
     ]
    }
   ],
   "source": [
    "print(ans_index.count(1))\n",
    "print(ans_index.count(2))\n",
    "print(ans_index.count(3))\n"
   ]
  }
 ],
 "metadata": {
  "kernelspec": {
   "display_name": "bone_20240719",
   "language": "python",
   "name": "python3"
  },
  "language_info": {
   "codemirror_mode": {
    "name": "ipython",
    "version": 3
   },
   "file_extension": ".py",
   "mimetype": "text/x-python",
   "name": "python",
   "nbconvert_exporter": "python",
   "pygments_lexer": "ipython3",
   "version": "3.7.12"
  }
 },
 "nbformat": 4,
 "nbformat_minor": 2
}
